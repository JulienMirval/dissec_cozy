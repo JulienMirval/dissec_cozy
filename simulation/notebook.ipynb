{
 "cells": [
  {
   "cell_type": "code",
   "execution_count": null,
   "metadata": {},
   "outputs": [],
   "source": [
    "import json\n",
    "import pandas as pd"
   ]
  },
  {
   "cell_type": "code",
   "execution_count": null,
   "metadata": {},
   "outputs": [],
   "source": [
    "def get_data():\n",
    "    with open('./outputs/raw.json') as f:\n",
    "        data = json.load(f)\n",
    "    \n",
    "    messages = {\n",
    "        \"run_id\": [],\n",
    "        \"successful_run\": [],\n",
    "        \"type\": [],\n",
    "        \"emission_time\": [],\n",
    "        \"reception_time\": [],\n",
    "        \"emitter_id\": [],\n",
    "        \"receiver_id\": [],\n",
    "        \"delivered\": [],\n",
    "    }\n",
    "\n",
    "    for i, run in enumerate(data):\n",
    "        for message in run[\"messages\"]:\n",
    "            messages[\"run_id\"].append(i)\n",
    "            messages[\"successful_run\"].append(run[\"success\"])\n",
    "            messages[\"type\"].append(message[\"type\"])\n",
    "            messages[\"emission_time\"].append(message[\"emissionTime\"])\n",
    "            messages[\"reception_time\"].append(message[\"receptionTime\"])\n",
    "            messages[\"emitter_id\"].append(message[\"emitterId\"])\n",
    "            messages[\"receiver_id\"].append(message[\"receiverId\"])\n",
    "            messages[\"delivered\"].append(message[\"delivered\"])\n",
    "\n",
    "    df = pd.DataFrame(messages)\n",
    "    df['latency'] = df['reception_time'] - df['emission_time']\n",
    "    \n",
    "    return df"
   ]
  },
  {
   "cell_type": "code",
   "execution_count": null,
   "metadata": {},
   "outputs": [],
   "source": [
    "get_data()"
   ]
  },
  {
   "cell_type": "code",
   "execution_count": null,
   "metadata": {},
   "outputs": [],
   "source": [
    "df = get_data()"
   ]
  },
  {
   "cell_type": "code",
   "execution_count": null,
   "metadata": {},
   "outputs": [],
   "source": [
    "df[df['successful_run'] == False]"
   ]
  }
 ],
 "metadata": {
  "interpreter": {
   "hash": "916dbcbb3f70747c44a77c7bcd40155683ae19c65e1c03b4aa3499c5328201f1"
  },
  "kernelspec": {
   "display_name": "Python 3.8.10 64-bit",
   "language": "python",
   "name": "python3"
  },
  "language_info": {
   "codemirror_mode": {
    "name": "ipython",
    "version": 3
   },
   "file_extension": ".py",
   "mimetype": "text/x-python",
   "name": "python",
   "nbconvert_exporter": "python",
   "pygments_lexer": "ipython3",
   "version": "3.8.10"
  },
  "orig_nbformat": 4
 },
 "nbformat": 4,
 "nbformat_minor": 2
}
